{
 "cells": [
  {
   "cell_type": "markdown",
   "id": "720e9d0a",
   "metadata": {},
   "source": [
    "# Performing preprocessing operations using Python on the student performance dataset\n"
   ]
  },
  {
   "cell_type": "code",
   "execution_count": 1,
   "id": "d6771563",
   "metadata": {},
   "outputs": [],
   "source": [
    "# Importing all the libraries\n",
    "import numpy as np\n",
    "import pandas as pd\n",
    "import matplotlib.pyplot as plt\n",
    "import seaborn as sns"
   ]
  },
  {
   "cell_type": "code",
   "execution_count": 2,
   "id": "af6ab579",
   "metadata": {},
   "outputs": [
    {
     "data": {
      "text/html": [
       "<div>\n",
       "<style scoped>\n",
       "    .dataframe tbody tr th:only-of-type {\n",
       "        vertical-align: middle;\n",
       "    }\n",
       "\n",
       "    .dataframe tbody tr th {\n",
       "        vertical-align: top;\n",
       "    }\n",
       "\n",
       "    .dataframe thead th {\n",
       "        text-align: right;\n",
       "    }\n",
       "</style>\n",
       "<table border=\"1\" class=\"dataframe\">\n",
       "  <thead>\n",
       "    <tr style=\"text-align: right;\">\n",
       "      <th></th>\n",
       "      <th>Timestamp</th>\n",
       "      <th>Email_address</th>\n",
       "      <th>Name_of_student</th>\n",
       "      <th>Roll_number</th>\n",
       "      <th>Division</th>\n",
       "      <th>Age</th>\n",
       "      <th>Gender</th>\n",
       "      <th>Studytime_Hrs</th>\n",
       "      <th>FE_grade_pointer</th>\n",
       "      <th>SE_grade_pointer</th>\n",
       "      <th>Number_of_subjects_failed</th>\n",
       "      <th>Number_current_backlogs</th>\n",
       "      <th>Additional_courses_opted</th>\n",
       "      <th>Number_of_paper_published</th>\n",
       "      <th>Intership_opted</th>\n",
       "      <th>10th_percentage</th>\n",
       "      <th>12th_percentage</th>\n",
       "      <th>10th_12th_board</th>\n",
       "    </tr>\n",
       "  </thead>\n",
       "  <tbody>\n",
       "    <tr>\n",
       "      <th>0</th>\n",
       "      <td>1/18/2022 14:34:30</td>\n",
       "      <td>nikita.khairnar19@pccoepune.org</td>\n",
       "      <td>Nikita Vijay Khairnar</td>\n",
       "      <td>B213</td>\n",
       "      <td>B</td>\n",
       "      <td>20</td>\n",
       "      <td>F</td>\n",
       "      <td>3.0</td>\n",
       "      <td>9.20</td>\n",
       "      <td>9.95</td>\n",
       "      <td>0.0</td>\n",
       "      <td>0.0</td>\n",
       "      <td>NaN</td>\n",
       "      <td>NaN</td>\n",
       "      <td>YES</td>\n",
       "      <td>93.6</td>\n",
       "      <td>82.31</td>\n",
       "      <td>STATE</td>\n",
       "    </tr>\n",
       "    <tr>\n",
       "      <th>1</th>\n",
       "      <td>1/18/2022 14:34:31</td>\n",
       "      <td>krishnankit.dixit19@pccoepune.org</td>\n",
       "      <td>Krishnankit Dixit</td>\n",
       "      <td>TECOA143</td>\n",
       "      <td>A</td>\n",
       "      <td>21</td>\n",
       "      <td>M</td>\n",
       "      <td>5.0</td>\n",
       "      <td>9.36</td>\n",
       "      <td>9.41</td>\n",
       "      <td>0.0</td>\n",
       "      <td>0.0</td>\n",
       "      <td>Web development, Python, Data structures and a...</td>\n",
       "      <td>0.0</td>\n",
       "      <td>YES</td>\n",
       "      <td>89.0</td>\n",
       "      <td>83.00</td>\n",
       "      <td>STATE</td>\n",
       "    </tr>\n",
       "    <tr>\n",
       "      <th>2</th>\n",
       "      <td>1/18/2022 14:34:38</td>\n",
       "      <td>karthi.dhanasekaran19@pccoepune.org</td>\n",
       "      <td>Karthi Dhanasekaran</td>\n",
       "      <td>B275</td>\n",
       "      <td>B</td>\n",
       "      <td>21</td>\n",
       "      <td>M</td>\n",
       "      <td>2.0</td>\n",
       "      <td>8.45</td>\n",
       "      <td>9.45</td>\n",
       "      <td>0.0</td>\n",
       "      <td>0.0</td>\n",
       "      <td>AI/ML</td>\n",
       "      <td>1.0</td>\n",
       "      <td>YES</td>\n",
       "      <td>82.8</td>\n",
       "      <td>84.60</td>\n",
       "      <td>CBSE</td>\n",
       "    </tr>\n",
       "    <tr>\n",
       "      <th>3</th>\n",
       "      <td>1/18/2022 14:34:44</td>\n",
       "      <td>shreyash.patil19@pccoepune.org</td>\n",
       "      <td>Shreyash patil</td>\n",
       "      <td>B264</td>\n",
       "      <td>B</td>\n",
       "      <td>21</td>\n",
       "      <td>M</td>\n",
       "      <td>0.7</td>\n",
       "      <td>8.50</td>\n",
       "      <td>9.20</td>\n",
       "      <td>0.0</td>\n",
       "      <td>0.0</td>\n",
       "      <td>Python, c, c++</td>\n",
       "      <td>1.0</td>\n",
       "      <td>NO</td>\n",
       "      <td>89.0</td>\n",
       "      <td>79.00</td>\n",
       "      <td>STATE</td>\n",
       "    </tr>\n",
       "    <tr>\n",
       "      <th>4</th>\n",
       "      <td>1/18/2022 14:34:54</td>\n",
       "      <td>hitesh.kotecha19@pccoepune.org</td>\n",
       "      <td>Hitesh Kotecha</td>\n",
       "      <td>B220</td>\n",
       "      <td>B</td>\n",
       "      <td>20</td>\n",
       "      <td>M</td>\n",
       "      <td>4.0</td>\n",
       "      <td>8.40</td>\n",
       "      <td>8.70</td>\n",
       "      <td>0.0</td>\n",
       "      <td>0.0</td>\n",
       "      <td>0</td>\n",
       "      <td>0.0</td>\n",
       "      <td>YES</td>\n",
       "      <td>88.0</td>\n",
       "      <td>74.00</td>\n",
       "      <td>STATE</td>\n",
       "    </tr>\n",
       "    <tr>\n",
       "      <th>...</th>\n",
       "      <td>...</td>\n",
       "      <td>...</td>\n",
       "      <td>...</td>\n",
       "      <td>...</td>\n",
       "      <td>...</td>\n",
       "      <td>...</td>\n",
       "      <td>...</td>\n",
       "      <td>...</td>\n",
       "      <td>...</td>\n",
       "      <td>...</td>\n",
       "      <td>...</td>\n",
       "      <td>...</td>\n",
       "      <td>...</td>\n",
       "      <td>...</td>\n",
       "      <td>...</td>\n",
       "      <td>...</td>\n",
       "      <td>...</td>\n",
       "      <td>...</td>\n",
       "    </tr>\n",
       "    <tr>\n",
       "      <th>117</th>\n",
       "      <td>1/18/2022 14:44:58</td>\n",
       "      <td>apoorva.datir19@pccoepune.org</td>\n",
       "      <td>Apoorva Datir</td>\n",
       "      <td>TECOA134</td>\n",
       "      <td>A</td>\n",
       "      <td>19</td>\n",
       "      <td>F</td>\n",
       "      <td>6.0</td>\n",
       "      <td>8.70</td>\n",
       "      <td>9.70</td>\n",
       "      <td>0.0</td>\n",
       "      <td>0.0</td>\n",
       "      <td>5</td>\n",
       "      <td>0.0</td>\n",
       "      <td>YES</td>\n",
       "      <td>98.0</td>\n",
       "      <td>89.00</td>\n",
       "      <td>STATE</td>\n",
       "    </tr>\n",
       "    <tr>\n",
       "      <th>118</th>\n",
       "      <td>1/18/2022 14:45:58</td>\n",
       "      <td>sangram.more19@pccoepune.org</td>\n",
       "      <td>Sangram More</td>\n",
       "      <td>B238</td>\n",
       "      <td>B</td>\n",
       "      <td>20</td>\n",
       "      <td>M</td>\n",
       "      <td>1.0</td>\n",
       "      <td>7.89</td>\n",
       "      <td>9.59</td>\n",
       "      <td>0.0</td>\n",
       "      <td>0.0</td>\n",
       "      <td>0</td>\n",
       "      <td>0.0</td>\n",
       "      <td>NO</td>\n",
       "      <td>81.0</td>\n",
       "      <td>80.31</td>\n",
       "      <td>CBSE</td>\n",
       "    </tr>\n",
       "    <tr>\n",
       "      <th>119</th>\n",
       "      <td>1/18/2022 14:48:11</td>\n",
       "      <td>palak.gupta19@pccoepune.org</td>\n",
       "      <td>Palak Gupta</td>\n",
       "      <td>TECOA162</td>\n",
       "      <td>A</td>\n",
       "      <td>20</td>\n",
       "      <td>F</td>\n",
       "      <td>3.0</td>\n",
       "      <td>9.82</td>\n",
       "      <td>9.95</td>\n",
       "      <td>0.0</td>\n",
       "      <td>0.0</td>\n",
       "      <td>NaN</td>\n",
       "      <td>NaN</td>\n",
       "      <td>YES</td>\n",
       "      <td>98.2</td>\n",
       "      <td>87.23</td>\n",
       "      <td>STATE</td>\n",
       "    </tr>\n",
       "    <tr>\n",
       "      <th>120</th>\n",
       "      <td>1/18/2022 14:52:34</td>\n",
       "      <td>vedant.chaudhari19@pccoepune.org</td>\n",
       "      <td>Vedant Chaudhari</td>\n",
       "      <td>A124</td>\n",
       "      <td>A</td>\n",
       "      <td>20</td>\n",
       "      <td>M</td>\n",
       "      <td>NaN</td>\n",
       "      <td>8.50</td>\n",
       "      <td>9.80</td>\n",
       "      <td>NaN</td>\n",
       "      <td>NaN</td>\n",
       "      <td>1</td>\n",
       "      <td>NaN</td>\n",
       "      <td>YES</td>\n",
       "      <td>96.0</td>\n",
       "      <td>86.00</td>\n",
       "      <td>CBSE</td>\n",
       "    </tr>\n",
       "    <tr>\n",
       "      <th>121</th>\n",
       "      <td>1/18/2022 15:09:04</td>\n",
       "      <td>prajwal.bhargade19@pccoepune.org</td>\n",
       "      <td>Prajwal Ganesh Bhargade</td>\n",
       "      <td>A116</td>\n",
       "      <td>A</td>\n",
       "      <td>41</td>\n",
       "      <td>M</td>\n",
       "      <td>7.0</td>\n",
       "      <td>6.40</td>\n",
       "      <td>9.25</td>\n",
       "      <td>1.0</td>\n",
       "      <td>0.0</td>\n",
       "      <td>no</td>\n",
       "      <td>0.0</td>\n",
       "      <td>NO</td>\n",
       "      <td>85.0</td>\n",
       "      <td>67.00</td>\n",
       "      <td>STATE</td>\n",
       "    </tr>\n",
       "  </tbody>\n",
       "</table>\n",
       "<p>122 rows × 18 columns</p>\n",
       "</div>"
      ],
      "text/plain": [
       "              Timestamp                        Email_address  \\\n",
       "0    1/18/2022 14:34:30      nikita.khairnar19@pccoepune.org   \n",
       "1    1/18/2022 14:34:31    krishnankit.dixit19@pccoepune.org   \n",
       "2    1/18/2022 14:34:38  karthi.dhanasekaran19@pccoepune.org   \n",
       "3    1/18/2022 14:34:44       shreyash.patil19@pccoepune.org   \n",
       "4    1/18/2022 14:34:54       hitesh.kotecha19@pccoepune.org   \n",
       "..                  ...                                  ...   \n",
       "117  1/18/2022 14:44:58        apoorva.datir19@pccoepune.org   \n",
       "118  1/18/2022 14:45:58         sangram.more19@pccoepune.org   \n",
       "119  1/18/2022 14:48:11          palak.gupta19@pccoepune.org   \n",
       "120  1/18/2022 14:52:34     vedant.chaudhari19@pccoepune.org   \n",
       "121  1/18/2022 15:09:04     prajwal.bhargade19@pccoepune.org   \n",
       "\n",
       "             Name_of_student Roll_number Division  Age Gender  Studytime_Hrs  \\\n",
       "0      Nikita Vijay Khairnar        B213        B   20      F            3.0   \n",
       "1          Krishnankit Dixit    TECOA143        A   21      M            5.0   \n",
       "2        Karthi Dhanasekaran        B275        B   21      M            2.0   \n",
       "3             Shreyash patil        B264        B   21      M            0.7   \n",
       "4             Hitesh Kotecha        B220        B   20      M            4.0   \n",
       "..                       ...         ...      ...  ...    ...            ...   \n",
       "117            Apoorva Datir    TECOA134        A   19      F            6.0   \n",
       "118             Sangram More        B238        B   20      M            1.0   \n",
       "119              Palak Gupta    TECOA162        A   20      F            3.0   \n",
       "120         Vedant Chaudhari        A124        A   20      M            NaN   \n",
       "121  Prajwal Ganesh Bhargade        A116        A   41      M            7.0   \n",
       "\n",
       "     FE_grade_pointer  SE_grade_pointer  Number_of_subjects_failed  \\\n",
       "0                9.20              9.95                        0.0   \n",
       "1                9.36              9.41                        0.0   \n",
       "2                8.45              9.45                        0.0   \n",
       "3                8.50              9.20                        0.0   \n",
       "4                8.40              8.70                        0.0   \n",
       "..                ...               ...                        ...   \n",
       "117              8.70              9.70                        0.0   \n",
       "118              7.89              9.59                        0.0   \n",
       "119              9.82              9.95                        0.0   \n",
       "120              8.50              9.80                        NaN   \n",
       "121              6.40              9.25                        1.0   \n",
       "\n",
       "     Number_current_backlogs  \\\n",
       "0                        0.0   \n",
       "1                        0.0   \n",
       "2                        0.0   \n",
       "3                        0.0   \n",
       "4                        0.0   \n",
       "..                       ...   \n",
       "117                      0.0   \n",
       "118                      0.0   \n",
       "119                      0.0   \n",
       "120                      NaN   \n",
       "121                      0.0   \n",
       "\n",
       "                              Additional_courses_opted  \\\n",
       "0                                                  NaN   \n",
       "1    Web development, Python, Data structures and a...   \n",
       "2                                                AI/ML   \n",
       "3                                       Python, c, c++   \n",
       "4                                                    0   \n",
       "..                                                 ...   \n",
       "117                                                  5   \n",
       "118                                                  0   \n",
       "119                                                NaN   \n",
       "120                                                  1   \n",
       "121                                                 no   \n",
       "\n",
       "     Number_of_paper_published Intership_opted  10th_percentage  \\\n",
       "0                          NaN             YES             93.6   \n",
       "1                          0.0             YES             89.0   \n",
       "2                          1.0             YES             82.8   \n",
       "3                          1.0              NO             89.0   \n",
       "4                          0.0             YES             88.0   \n",
       "..                         ...             ...              ...   \n",
       "117                        0.0             YES             98.0   \n",
       "118                        0.0              NO             81.0   \n",
       "119                        NaN             YES             98.2   \n",
       "120                        NaN             YES             96.0   \n",
       "121                        0.0              NO             85.0   \n",
       "\n",
       "     12th_percentage 10th_12th_board  \n",
       "0              82.31           STATE  \n",
       "1              83.00           STATE  \n",
       "2              84.60            CBSE  \n",
       "3              79.00           STATE  \n",
       "4              74.00           STATE  \n",
       "..               ...             ...  \n",
       "117            89.00           STATE  \n",
       "118            80.31            CBSE  \n",
       "119            87.23           STATE  \n",
       "120            86.00            CBSE  \n",
       "121            67.00           STATE  \n",
       "\n",
       "[122 rows x 18 columns]"
      ]
     },
     "execution_count": 2,
     "metadata": {},
     "output_type": "execute_result"
    }
   ],
   "source": [
    "#Loading the dataset\n",
    "df = pd.read_csv(\"Student-perfor_corrected.csv\")\n",
    "df"
   ]
  },
  {
   "cell_type": "code",
   "execution_count": 3,
   "id": "f3569e3c",
   "metadata": {},
   "outputs": [
    {
     "data": {
      "text/plain": [
       "(122, 18)"
      ]
     },
     "execution_count": 3,
     "metadata": {},
     "output_type": "execute_result"
    }
   ],
   "source": [
    "df.shape"
   ]
  },
  {
   "cell_type": "code",
   "execution_count": null,
   "id": "3297c212",
   "metadata": {},
   "outputs": [],
   "source": [
    "df.columns"
   ]
  },
  {
   "cell_type": "code",
   "execution_count": null,
   "id": "7ee067f5",
   "metadata": {},
   "outputs": [],
   "source": [
    "df.dtypes"
   ]
  },
  {
   "cell_type": "code",
   "execution_count": null,
   "id": "ea371300",
   "metadata": {},
   "outputs": [],
   "source": [
    "df.head()"
   ]
  },
  {
   "cell_type": "code",
   "execution_count": null,
   "id": "9c8693dc",
   "metadata": {},
   "outputs": [],
   "source": [
    "df.tail()"
   ]
  },
  {
   "cell_type": "code",
   "execution_count": null,
   "id": "776bbcef",
   "metadata": {},
   "outputs": [],
   "source": [
    "df.describe()"
   ]
  },
  {
   "cell_type": "code",
   "execution_count": 4,
   "id": "bb33c705",
   "metadata": {},
   "outputs": [
    {
     "data": {
      "text/plain": [
       "Timestamp                     0\n",
       "Email_address                 0\n",
       "Name_of_student               0\n",
       "Roll_number                   0\n",
       "Division                      0\n",
       "Age                           0\n",
       "Gender                        0\n",
       "Studytime_Hrs                 6\n",
       "FE_grade_pointer             10\n",
       "SE_grade_pointer              0\n",
       "Number_of_subjects_failed     2\n",
       "Number_current_backlogs       2\n",
       "Additional_courses_opted     12\n",
       "Number_of_paper_published     9\n",
       "Intership_opted               1\n",
       "10th_percentage               0\n",
       "12th_percentage               2\n",
       "10th_12th_board               2\n",
       "dtype: int64"
      ]
     },
     "execution_count": 4,
     "metadata": {},
     "output_type": "execute_result"
    }
   ],
   "source": [
    "df.isnull().sum()"
   ]
  },
  {
   "cell_type": "code",
   "execution_count": null,
   "id": "ddaeea0b",
   "metadata": {},
   "outputs": [],
   "source": [
    "df['10th and 12th university/board'].unique()"
   ]
  },
  {
   "cell_type": "code",
   "execution_count": null,
   "id": "b9dfd7c2",
   "metadata": {},
   "outputs": [],
   "source": [
    "df.intershipopted.value_counts()"
   ]
  },
  {
   "cell_type": "code",
   "execution_count": null,
   "id": "c30d5f8a",
   "metadata": {},
   "outputs": [],
   "source": [
    "#finds % number of people opted housing loan\n",
    "(df.intershipopted.value_counts() / df.shape[0]) * 100"
   ]
  },
  {
   "cell_type": "markdown",
   "id": "21c0cc08",
   "metadata": {},
   "source": [
    "### Data Preprocessing - handling with missing values"
   ]
  },
  {
   "cell_type": "code",
   "execution_count": null,
   "id": "01455c0b",
   "metadata": {},
   "outputs": [],
   "source": [
    "#Loading the dataset\n",
    "df = pd.read_csv(\"Student-perfor_corrected.csv\")\n"
   ]
  },
  {
   "cell_type": "code",
   "execution_count": null,
   "id": "b5a97ac6",
   "metadata": {},
   "outputs": [],
   "source": [
    "print(df.isnull().sum())"
   ]
  },
  {
   "cell_type": "code",
   "execution_count": 5,
   "id": "544b06bd",
   "metadata": {},
   "outputs": [
    {
     "name": "stdout",
     "output_type": "stream",
     "text": [
      "<class 'pandas.core.frame.DataFrame'>\n",
      "RangeIndex: 122 entries, 0 to 121\n",
      "Data columns (total 18 columns):\n",
      " #   Column                     Non-Null Count  Dtype  \n",
      "---  ------                     --------------  -----  \n",
      " 0   Timestamp                  122 non-null    object \n",
      " 1   Email_address              122 non-null    object \n",
      " 2   Name_of_student            122 non-null    object \n",
      " 3   Roll_number                122 non-null    object \n",
      " 4   Division                   122 non-null    object \n",
      " 5   Age                        122 non-null    int64  \n",
      " 6   Gender                     122 non-null    object \n",
      " 7   Studytime_Hrs              116 non-null    float64\n",
      " 8   FE_grade_pointer           112 non-null    float64\n",
      " 9   SE_grade_pointer           122 non-null    float64\n",
      " 10  Number_of_subjects_failed  120 non-null    float64\n",
      " 11  Number_current_backlogs    120 non-null    float64\n",
      " 12  Additional_courses_opted   110 non-null    object \n",
      " 13  Number_of_paper_published  113 non-null    float64\n",
      " 14  Intership_opted            121 non-null    object \n",
      " 15  10th_percentage            122 non-null    float64\n",
      " 16  12th_percentage            120 non-null    float64\n",
      " 17  10th_12th_board            120 non-null    object \n",
      "dtypes: float64(8), int64(1), object(9)\n",
      "memory usage: 17.3+ KB\n"
     ]
    }
   ],
   "source": [
    "df.info()"
   ]
  },
  {
   "cell_type": "code",
   "execution_count": null,
   "id": "155ea7be",
   "metadata": {},
   "outputs": [],
   "source": [
    "### filling missing values with zero"
   ]
  },
  {
   "cell_type": "code",
   "execution_count": 6,
   "id": "8fd2b96c",
   "metadata": {},
   "outputs": [
    {
     "name": "stdout",
     "output_type": "stream",
     "text": [
      "6\n"
     ]
    }
   ],
   "source": [
    "print(df[\"Studytime_Hrs\"].isnull().sum())"
   ]
  },
  {
   "cell_type": "code",
   "execution_count": 10,
   "id": "da65ecd3",
   "metadata": {},
   "outputs": [
    {
     "data": {
      "text/html": [
       "<div>\n",
       "<style scoped>\n",
       "    .dataframe tbody tr th:only-of-type {\n",
       "        vertical-align: middle;\n",
       "    }\n",
       "\n",
       "    .dataframe tbody tr th {\n",
       "        vertical-align: top;\n",
       "    }\n",
       "\n",
       "    .dataframe thead th {\n",
       "        text-align: right;\n",
       "    }\n",
       "</style>\n",
       "<table border=\"1\" class=\"dataframe\">\n",
       "  <thead>\n",
       "    <tr style=\"text-align: right;\">\n",
       "      <th></th>\n",
       "      <th>Timestamp</th>\n",
       "      <th>Email_address</th>\n",
       "      <th>Name_of_student</th>\n",
       "      <th>Roll_number</th>\n",
       "      <th>Division</th>\n",
       "      <th>Age</th>\n",
       "      <th>Gender</th>\n",
       "      <th>Studytime_Hrs</th>\n",
       "      <th>FE_grade_pointer</th>\n",
       "      <th>SE_grade_pointer</th>\n",
       "      <th>Number_of_subjects_failed</th>\n",
       "      <th>Number_current_backlogs</th>\n",
       "      <th>Additional_courses_opted</th>\n",
       "      <th>Number_of_paper_published</th>\n",
       "      <th>Intership_opted</th>\n",
       "      <th>10th_percentage</th>\n",
       "      <th>12th_percentage</th>\n",
       "      <th>10th_12th_board</th>\n",
       "    </tr>\n",
       "  </thead>\n",
       "  <tbody>\n",
       "  </tbody>\n",
       "</table>\n",
       "</div>"
      ],
      "text/plain": [
       "Empty DataFrame\n",
       "Columns: [Timestamp, Email_address, Name_of_student, Roll_number, Division, Age, Gender, Studytime_Hrs, FE_grade_pointer, SE_grade_pointer, Number_of_subjects_failed, Number_current_backlogs, Additional_courses_opted, Number_of_paper_published, Intership_opted, 10th_percentage, 12th_percentage, 10th_12th_board]\n",
       "Index: []"
      ]
     },
     "execution_count": 10,
     "metadata": {},
     "output_type": "execute_result"
    }
   ],
   "source": [
    "# creating bool series True for NaN values \n",
    "bool_series = pd.isnull(df[\"Studytime_Hrs\"]) \n",
    "    \n",
    "# filtering data \n",
    "# displaying data only with Gender = NaN \n",
    "df[bool_series] "
   ]
  },
  {
   "cell_type": "code",
   "execution_count": 8,
   "id": "e0a81f88",
   "metadata": {},
   "outputs": [],
   "source": [
    "df[\"Studytime_Hrs\"]= df[\"Studytime_Hrs\"].fillna(0)"
   ]
  },
  {
   "cell_type": "code",
   "execution_count": 9,
   "id": "27eac63e",
   "metadata": {},
   "outputs": [
    {
     "name": "stdout",
     "output_type": "stream",
     "text": [
      "0\n"
     ]
    }
   ],
   "source": [
    "print(df[\"Studytime_Hrs\"].isnull().sum())"
   ]
  },
  {
   "cell_type": "code",
   "execution_count": null,
   "id": "460bc4d2",
   "metadata": {},
   "outputs": [],
   "source": [
    "# forward-fill\n",
    "df.fillna(method='ffill')\n",
    "# back-fill\n",
    "df.fillna(method='bfill')"
   ]
  },
  {
   "cell_type": "code",
   "execution_count": 11,
   "id": "6398b12f",
   "metadata": {},
   "outputs": [
    {
     "name": "stdout",
     "output_type": "stream",
     "text": [
      "10\n",
      "0\n"
     ]
    }
   ],
   "source": [
    "print(df[\"FE_grade_pointer\"].isnull().sum())\n",
    "# fill missing values with mean column values\n",
    "df['FE_grade_pointer'].fillna(df['FE_grade_pointer'].mean(), inplace=True)\n",
    "print(df[\"FE_grade_pointer\"].isnull().sum())"
   ]
  },
  {
   "cell_type": "code",
   "execution_count": 13,
   "id": "23cd105d",
   "metadata": {},
   "outputs": [
    {
     "name": "stdout",
     "output_type": "stream",
     "text": [
      "2\n",
      "0\n"
     ]
    }
   ],
   "source": [
    "print(df[\"10th_12th_board\"].isnull().sum())\n",
    "# fill missing values with mode value\n",
    "df['10th_12th_board'].fillna(df['10th_12th_board'].mode()[0], inplace=True)\n",
    "print(df[\"10th_12th_board\"].isnull().sum())"
   ]
  },
  {
   "cell_type": "code",
   "execution_count": 12,
   "id": "739ac6fe",
   "metadata": {},
   "outputs": [
    {
     "data": {
      "text/plain": [
       "0    STATE\n",
       "dtype: object"
      ]
     },
     "execution_count": 12,
     "metadata": {},
     "output_type": "execute_result"
    }
   ],
   "source": [
    "df['10th_12th_board'].mode()"
   ]
  },
  {
   "cell_type": "code",
   "execution_count": 14,
   "id": "c96dad5b",
   "metadata": {},
   "outputs": [
    {
     "name": "stdout",
     "output_type": "stream",
     "text": [
      "2\n",
      "0\n"
     ]
    }
   ],
   "source": [
    "print(df[\"Number_of_subjects_failed\"].isnull().sum())\n",
    "# fill missing values with zero value\n",
    "df['Number_of_subjects_failed'].fillna(0, inplace=True)\n",
    "print(df[\"Number_of_subjects_failed\"].isnull().sum())"
   ]
  },
  {
   "cell_type": "code",
   "execution_count": 15,
   "id": "9e167044",
   "metadata": {},
   "outputs": [
    {
     "name": "stdout",
     "output_type": "stream",
     "text": [
      "2\n",
      "0\n"
     ]
    }
   ],
   "source": [
    "print(df[\"Number_current_backlogs\"].isnull().sum())\n",
    "# fill missing values with zero value\n",
    "df['Number_current_backlogs'].fillna(0, inplace=True)\n",
    "print(df[\"Number_current_backlogs\"].isnull().sum())"
   ]
  },
  {
   "cell_type": "code",
   "execution_count": 16,
   "id": "d5d46f2f",
   "metadata": {},
   "outputs": [
    {
     "name": "stdout",
     "output_type": "stream",
     "text": [
      "9\n",
      "0\n"
     ]
    }
   ],
   "source": [
    "print(df[\"Number_of_paper_published\"].isnull().sum())\n",
    "# fill missing values with zero value\n",
    "df['Number_of_paper_published'].fillna(0, inplace=True)\n",
    "print(df[\"Number_of_paper_published\"].isnull().sum())"
   ]
  },
  {
   "cell_type": "code",
   "execution_count": 17,
   "id": "63dcff38",
   "metadata": {},
   "outputs": [
    {
     "name": "stdout",
     "output_type": "stream",
     "text": [
      "2\n",
      "0\n"
     ]
    }
   ],
   "source": [
    "print(df[\"12th_percentage\"].isnull().sum())\n",
    "# fill missing values with previous row value\n",
    "df['12th_percentage'].fillna(method='ffill', inplace=True)\n",
    "print(df[\"12th_percentage\"].isnull().sum())"
   ]
  },
  {
   "cell_type": "code",
   "execution_count": 18,
   "id": "bb03af4e",
   "metadata": {},
   "outputs": [
    {
     "name": "stdout",
     "output_type": "stream",
     "text": [
      "<class 'pandas.core.frame.DataFrame'>\n",
      "RangeIndex: 122 entries, 0 to 121\n",
      "Data columns (total 18 columns):\n",
      " #   Column                     Non-Null Count  Dtype  \n",
      "---  ------                     --------------  -----  \n",
      " 0   Timestamp                  122 non-null    object \n",
      " 1   Email_address              122 non-null    object \n",
      " 2   Name_of_student            122 non-null    object \n",
      " 3   Roll_number                122 non-null    object \n",
      " 4   Division                   122 non-null    object \n",
      " 5   Age                        122 non-null    int64  \n",
      " 6   Gender                     122 non-null    object \n",
      " 7   Studytime_Hrs              122 non-null    float64\n",
      " 8   FE_grade_pointer           122 non-null    float64\n",
      " 9   SE_grade_pointer           122 non-null    float64\n",
      " 10  Number_of_subjects_failed  122 non-null    float64\n",
      " 11  Number_current_backlogs    122 non-null    float64\n",
      " 12  Additional_courses_opted   110 non-null    object \n",
      " 13  Number_of_paper_published  122 non-null    float64\n",
      " 14  Intership_opted            121 non-null    object \n",
      " 15  10th_percentage            122 non-null    float64\n",
      " 16  12th_percentage            122 non-null    float64\n",
      " 17  10th_12th_board            122 non-null    object \n",
      "dtypes: float64(8), int64(1), object(9)\n",
      "memory usage: 17.3+ KB\n"
     ]
    }
   ],
   "source": [
    "df.info()"
   ]
  },
  {
   "cell_type": "code",
   "execution_count": 19,
   "id": "c75f8c93",
   "metadata": {},
   "outputs": [
    {
     "name": "stdout",
     "output_type": "stream",
     "text": [
      "1\n",
      "0\n"
     ]
    }
   ],
   "source": [
    "print(df[\"Intership_opted\"].isnull().sum())\n",
    "# fill missing values with next row value\n",
    "df['Intership_opted'].fillna(method='bfill', inplace=True)\n",
    "print(df[\"Intership_opted\"].isnull().sum())"
   ]
  },
  {
   "cell_type": "code",
   "execution_count": 21,
   "id": "21b3546b",
   "metadata": {},
   "outputs": [],
   "source": [
    "df=df.dropna(axis=1)"
   ]
  },
  {
   "cell_type": "code",
   "execution_count": 22,
   "id": "0c01c55f",
   "metadata": {},
   "outputs": [
    {
     "name": "stdout",
     "output_type": "stream",
     "text": [
      "<class 'pandas.core.frame.DataFrame'>\n",
      "RangeIndex: 122 entries, 0 to 121\n",
      "Data columns (total 17 columns):\n",
      " #   Column                     Non-Null Count  Dtype  \n",
      "---  ------                     --------------  -----  \n",
      " 0   Timestamp                  122 non-null    object \n",
      " 1   Email_address              122 non-null    object \n",
      " 2   Name_of_student            122 non-null    object \n",
      " 3   Roll_number                122 non-null    object \n",
      " 4   Division                   122 non-null    object \n",
      " 5   Age                        122 non-null    int64  \n",
      " 6   Gender                     122 non-null    object \n",
      " 7   Studytime_Hrs              122 non-null    float64\n",
      " 8   FE_grade_pointer           122 non-null    float64\n",
      " 9   SE_grade_pointer           122 non-null    float64\n",
      " 10  Number_of_subjects_failed  122 non-null    float64\n",
      " 11  Number_current_backlogs    122 non-null    float64\n",
      " 12  Number_of_paper_published  122 non-null    float64\n",
      " 13  Intership_opted            122 non-null    object \n",
      " 14  10th_percentage            122 non-null    float64\n",
      " 15  12th_percentage            122 non-null    float64\n",
      " 16  10th_12th_board            122 non-null    object \n",
      "dtypes: float64(8), int64(1), object(8)\n",
      "memory usage: 16.3+ KB\n"
     ]
    }
   ],
   "source": [
    "df.info()"
   ]
  },
  {
   "cell_type": "markdown",
   "id": "cb692847",
   "metadata": {},
   "source": [
    "## Converting categorical values into numeric format "
   ]
  },
  {
   "cell_type": "code",
   "execution_count": 23,
   "id": "9f17a852",
   "metadata": {},
   "outputs": [
    {
     "data": {
      "text/plain": [
       "array(['F', 'M'], dtype=object)"
      ]
     },
     "execution_count": 23,
     "metadata": {},
     "output_type": "execute_result"
    }
   ],
   "source": [
    "df.Gender.unique()"
   ]
  },
  {
   "cell_type": "code",
   "execution_count": 24,
   "id": "a1f7c996",
   "metadata": {},
   "outputs": [
    {
     "name": "stderr",
     "output_type": "stream",
     "text": [
      "C:\\ProgramData\\Anaconda3\\lib\\site-packages\\ipykernel_launcher.py:6: SettingWithCopyWarning: \n",
      "A value is trying to be set on a copy of a slice from a DataFrame.\n",
      "Try using .loc[row_indexer,col_indexer] = value instead\n",
      "\n",
      "See the caveats in the documentation: https://pandas.pydata.org/pandas-docs/stable/user_guide/indexing.html#returning-a-view-versus-a-copy\n",
      "  \n"
     ]
    }
   ],
   "source": [
    "def replace_gender(val):\n",
    "    if val == 'F':\n",
    "        return 0\n",
    "    else:\n",
    "        return 1\n",
    "df['Gender'] = df['Gender'].apply(replace_gender)"
   ]
  },
  {
   "cell_type": "code",
   "execution_count": 25,
   "id": "e19dc7ce",
   "metadata": {},
   "outputs": [
    {
     "data": {
      "text/plain": [
       "array([0, 1], dtype=int64)"
      ]
     },
     "execution_count": 25,
     "metadata": {},
     "output_type": "execute_result"
    }
   ],
   "source": [
    "df.Gender.unique()"
   ]
  },
  {
   "cell_type": "code",
   "execution_count": 26,
   "id": "c48d0f29",
   "metadata": {},
   "outputs": [
    {
     "data": {
      "text/plain": [
       "array(['STATE', 'CBSE', 'ICSE'], dtype=object)"
      ]
     },
     "execution_count": 26,
     "metadata": {},
     "output_type": "execute_result"
    }
   ],
   "source": [
    "df['10th_12th_board'].unique()"
   ]
  },
  {
   "cell_type": "code",
   "execution_count": 27,
   "id": "03a82d93",
   "metadata": {},
   "outputs": [
    {
     "name": "stderr",
     "output_type": "stream",
     "text": [
      "C:\\ProgramData\\Anaconda3\\lib\\site-packages\\pandas\\core\\generic.py:6746: SettingWithCopyWarning: \n",
      "A value is trying to be set on a copy of a slice from a DataFrame\n",
      "\n",
      "See the caveats in the documentation: https://pandas.pydata.org/pandas-docs/stable/user_guide/indexing.html#returning-a-view-versus-a-copy\n",
      "  self._update_inplace(new_data)\n"
     ]
    },
    {
     "data": {
      "text/html": [
       "<div>\n",
       "<style scoped>\n",
       "    .dataframe tbody tr th:only-of-type {\n",
       "        vertical-align: middle;\n",
       "    }\n",
       "\n",
       "    .dataframe tbody tr th {\n",
       "        vertical-align: top;\n",
       "    }\n",
       "\n",
       "    .dataframe thead th {\n",
       "        text-align: right;\n",
       "    }\n",
       "</style>\n",
       "<table border=\"1\" class=\"dataframe\">\n",
       "  <thead>\n",
       "    <tr style=\"text-align: right;\">\n",
       "      <th></th>\n",
       "      <th>Timestamp</th>\n",
       "      <th>Email_address</th>\n",
       "      <th>Name_of_student</th>\n",
       "      <th>Roll_number</th>\n",
       "      <th>Division</th>\n",
       "      <th>Age</th>\n",
       "      <th>Gender</th>\n",
       "      <th>Studytime_Hrs</th>\n",
       "      <th>FE_grade_pointer</th>\n",
       "      <th>SE_grade_pointer</th>\n",
       "      <th>Number_of_subjects_failed</th>\n",
       "      <th>Number_current_backlogs</th>\n",
       "      <th>Number_of_paper_published</th>\n",
       "      <th>Intership_opted</th>\n",
       "      <th>10th_percentage</th>\n",
       "      <th>12th_percentage</th>\n",
       "      <th>10th_12th_board</th>\n",
       "    </tr>\n",
       "  </thead>\n",
       "  <tbody>\n",
       "    <tr>\n",
       "      <th>0</th>\n",
       "      <td>1/18/2022 14:34:30</td>\n",
       "      <td>nikita.khairnar19@pccoepune.org</td>\n",
       "      <td>Nikita Vijay Khairnar</td>\n",
       "      <td>B213</td>\n",
       "      <td>B</td>\n",
       "      <td>20</td>\n",
       "      <td>0</td>\n",
       "      <td>3.0</td>\n",
       "      <td>9.20</td>\n",
       "      <td>9.95</td>\n",
       "      <td>0.0</td>\n",
       "      <td>0.0</td>\n",
       "      <td>0.0</td>\n",
       "      <td>YES</td>\n",
       "      <td>93.6</td>\n",
       "      <td>82.31</td>\n",
       "      <td>0</td>\n",
       "    </tr>\n",
       "    <tr>\n",
       "      <th>1</th>\n",
       "      <td>1/18/2022 14:34:31</td>\n",
       "      <td>krishnankit.dixit19@pccoepune.org</td>\n",
       "      <td>Krishnankit Dixit</td>\n",
       "      <td>TECOA143</td>\n",
       "      <td>A</td>\n",
       "      <td>21</td>\n",
       "      <td>1</td>\n",
       "      <td>5.0</td>\n",
       "      <td>9.36</td>\n",
       "      <td>9.41</td>\n",
       "      <td>0.0</td>\n",
       "      <td>0.0</td>\n",
       "      <td>0.0</td>\n",
       "      <td>YES</td>\n",
       "      <td>89.0</td>\n",
       "      <td>83.00</td>\n",
       "      <td>0</td>\n",
       "    </tr>\n",
       "    <tr>\n",
       "      <th>2</th>\n",
       "      <td>1/18/2022 14:34:38</td>\n",
       "      <td>karthi.dhanasekaran19@pccoepune.org</td>\n",
       "      <td>Karthi Dhanasekaran</td>\n",
       "      <td>B275</td>\n",
       "      <td>B</td>\n",
       "      <td>21</td>\n",
       "      <td>1</td>\n",
       "      <td>2.0</td>\n",
       "      <td>8.45</td>\n",
       "      <td>9.45</td>\n",
       "      <td>0.0</td>\n",
       "      <td>0.0</td>\n",
       "      <td>1.0</td>\n",
       "      <td>YES</td>\n",
       "      <td>82.8</td>\n",
       "      <td>84.60</td>\n",
       "      <td>1</td>\n",
       "    </tr>\n",
       "    <tr>\n",
       "      <th>3</th>\n",
       "      <td>1/18/2022 14:34:44</td>\n",
       "      <td>shreyash.patil19@pccoepune.org</td>\n",
       "      <td>Shreyash patil</td>\n",
       "      <td>B264</td>\n",
       "      <td>B</td>\n",
       "      <td>21</td>\n",
       "      <td>1</td>\n",
       "      <td>0.7</td>\n",
       "      <td>8.50</td>\n",
       "      <td>9.20</td>\n",
       "      <td>0.0</td>\n",
       "      <td>0.0</td>\n",
       "      <td>1.0</td>\n",
       "      <td>NO</td>\n",
       "      <td>89.0</td>\n",
       "      <td>79.00</td>\n",
       "      <td>0</td>\n",
       "    </tr>\n",
       "    <tr>\n",
       "      <th>4</th>\n",
       "      <td>1/18/2022 14:34:54</td>\n",
       "      <td>hitesh.kotecha19@pccoepune.org</td>\n",
       "      <td>Hitesh Kotecha</td>\n",
       "      <td>B220</td>\n",
       "      <td>B</td>\n",
       "      <td>20</td>\n",
       "      <td>1</td>\n",
       "      <td>4.0</td>\n",
       "      <td>8.40</td>\n",
       "      <td>8.70</td>\n",
       "      <td>0.0</td>\n",
       "      <td>0.0</td>\n",
       "      <td>0.0</td>\n",
       "      <td>YES</td>\n",
       "      <td>88.0</td>\n",
       "      <td>74.00</td>\n",
       "      <td>0</td>\n",
       "    </tr>\n",
       "  </tbody>\n",
       "</table>\n",
       "</div>"
      ],
      "text/plain": [
       "            Timestamp                        Email_address  \\\n",
       "0  1/18/2022 14:34:30      nikita.khairnar19@pccoepune.org   \n",
       "1  1/18/2022 14:34:31    krishnankit.dixit19@pccoepune.org   \n",
       "2  1/18/2022 14:34:38  karthi.dhanasekaran19@pccoepune.org   \n",
       "3  1/18/2022 14:34:44       shreyash.patil19@pccoepune.org   \n",
       "4  1/18/2022 14:34:54       hitesh.kotecha19@pccoepune.org   \n",
       "\n",
       "         Name_of_student Roll_number Division  Age  Gender  Studytime_Hrs  \\\n",
       "0  Nikita Vijay Khairnar        B213        B   20       0            3.0   \n",
       "1      Krishnankit Dixit    TECOA143        A   21       1            5.0   \n",
       "2    Karthi Dhanasekaran        B275        B   21       1            2.0   \n",
       "3         Shreyash patil        B264        B   21       1            0.7   \n",
       "4         Hitesh Kotecha        B220        B   20       1            4.0   \n",
       "\n",
       "   FE_grade_pointer  SE_grade_pointer  Number_of_subjects_failed  \\\n",
       "0              9.20              9.95                        0.0   \n",
       "1              9.36              9.41                        0.0   \n",
       "2              8.45              9.45                        0.0   \n",
       "3              8.50              9.20                        0.0   \n",
       "4              8.40              8.70                        0.0   \n",
       "\n",
       "   Number_current_backlogs  Number_of_paper_published Intership_opted  \\\n",
       "0                      0.0                        0.0             YES   \n",
       "1                      0.0                        0.0             YES   \n",
       "2                      0.0                        1.0             YES   \n",
       "3                      0.0                        1.0              NO   \n",
       "4                      0.0                        0.0             YES   \n",
       "\n",
       "   10th_percentage  12th_percentage  10th_12th_board  \n",
       "0             93.6            82.31                0  \n",
       "1             89.0            83.00                0  \n",
       "2             82.8            84.60                1  \n",
       "3             89.0            79.00                0  \n",
       "4             88.0            74.00                0  "
      ]
     },
     "execution_count": 27,
     "metadata": {},
     "output_type": "execute_result"
    }
   ],
   "source": [
    "#replace({'unknown':np.nan,...}\n",
    "df['10th_12th_board'].replace({\n",
    "    'STATE':0,\n",
    "    'CBSE':1, \n",
    "    'ICSE':2,\n",
    "    } ,\n",
    "    \n",
    "    inplace = True)\n",
    "\n",
    "df.head()"
   ]
  },
  {
   "cell_type": "markdown",
   "id": "6cd542b2",
   "metadata": {},
   "source": [
    "## Outliers can be detected using visualization"
   ]
  },
  {
   "cell_type": "markdown",
   "id": "b0a67665",
   "metadata": {},
   "source": [
    "### Boxplot summarizes sample data using 25th, 50th, and 75th percentiles. One can just get insights(quartiles, median, and outliers) into the dataset by just looking at its boxplot"
   ]
  },
  {
   "cell_type": "code",
   "execution_count": null,
   "id": "cbc60782",
   "metadata": {},
   "outputs": [],
   "source": [
    "#Loading the dataset\n",
    "df = pd.read_csv(\"Student-perfor_corrected.csv\")\n"
   ]
  },
  {
   "cell_type": "code",
   "execution_count": 28,
   "id": "af3886bf",
   "metadata": {},
   "outputs": [],
   "source": [
    "# Box Plot\n",
    "import seaborn as sns\n"
   ]
  },
  {
   "cell_type": "code",
   "execution_count": 29,
   "id": "2b90a468",
   "metadata": {},
   "outputs": [
    {
     "data": {
      "text/plain": [
       "<matplotlib.axes._subplots.AxesSubplot at 0x2977375d488>"
      ]
     },
     "execution_count": 29,
     "metadata": {},
     "output_type": "execute_result"
    },
    {
     "data": {
      "image/png": "[encoded data removed]",
      "text/plain": [
       "<Figure size 432x288 with 1 Axes>"
      ]
     },
     "metadata": {
      "needs_background": "light"
     },
     "output_type": "display_data"
    }
   ],
   "source": [
    "sns.boxplot(df['Age'])"
   ]
  },
  {
   "cell_type": "code",
   "execution_count": 30,
   "id": "84ca40f8",
   "metadata": {},
   "outputs": [
    {
     "name": "stdout",
     "output_type": "stream",
     "text": [
      "(array([121], dtype=int64),)\n"
     ]
    }
   ],
   "source": [
    "# Position of the Outlier\n",
    "print(np.where(df['Age']>30))"
   ]
  },
  {
   "cell_type": "markdown",
   "id": "752fed09",
   "metadata": {},
   "source": [
    "## Outliers can be detected by implementing mathematical formulas on the dataset like z-score computation"
   ]
  },
  {
   "cell_type": "code",
   "execution_count": 31,
   "id": "234d79bd",
   "metadata": {},
   "outputs": [
    {
     "data": {
      "text/plain": [
       "<matplotlib.axes._subplots.AxesSubplot at 0x2973a916648>"
      ]
     },
     "execution_count": 31,
     "metadata": {},
     "output_type": "execute_result"
    },
    {
     "data": {
      "image/png": "[encoded data removed]",
      "text/plain": [
       "<Figure size 432x288 with 1 Axes>"
      ]
     },
     "metadata": {
      "needs_background": "light"
     },
     "output_type": "display_data"
    }
   ],
   "source": [
    "sns.distplot(df['Age'])"
   ]
  },
  {
   "cell_type": "code",
   "execution_count": 32,
   "id": "f4d696d3",
   "metadata": {},
   "outputs": [
    {
     "name": "stdout",
     "output_type": "stream",
     "text": [
      "[ 0.19650828  0.31357705  0.31357705  0.31357705  0.19650828  0.31357705\n",
      "  0.31357705  0.70659362  0.19650828  0.31357705  0.19650828  0.31357705\n",
      "  0.19650828  0.70659362  0.19650828  0.19650828  0.19650828  0.19650828\n",
      "  0.19650828  0.19650828  0.31357705  0.19650828  0.31357705  0.19650828\n",
      "  0.19650828  0.19650828  0.19650828  0.19650828  0.31357705  0.19650828\n",
      "  0.19650828  0.31357705  0.19650828  0.70659362  0.31357705  0.31357705\n",
      "  0.31357705  0.19650828  0.19650828  0.31357705  0.31357705  0.19650828\n",
      "  0.19650828  0.31357705  0.19650828  0.19650828  0.19650828  0.19650828\n",
      "  0.19650828  0.19650828  0.19650828  0.19650828  0.70659362  0.31357705\n",
      "  0.19650828  0.19650828  0.70659362  0.19650828  0.19650828  0.31357705\n",
      "  0.19650828  0.31357705  0.31357705  0.19650828  0.31357705  0.19650828\n",
      "  0.19650828  0.70659362  0.19650828  0.19650828  0.19650828  0.19650828\n",
      "  0.19650828  0.31357705  0.19650828  0.19650828  0.31357705  0.82366238\n",
      "  0.19650828  0.19650828  0.19650828  0.19650828  0.19650828  0.19650828\n",
      "  0.19650828  0.19650828  0.31357705  0.19650828  0.19650828  0.70659362\n",
      "  0.19650828  0.19650828  0.19650828  0.31357705  0.19650828  0.19650828\n",
      "  0.19650828  0.31357705  0.70659362  0.31357705  0.19650828  0.19650828\n",
      "  0.19650828  0.19650828  0.19650828  0.19650828  0.19650828  0.19650828\n",
      "  0.31357705  0.19650828  0.31357705  0.31357705  0.19650828  0.19650828\n",
      "  0.31357705  0.31357705  0.19650828  0.70659362  0.19650828  0.19650828\n",
      "  0.19650828 10.5152837 ]\n"
     ]
    }
   ],
   "source": [
    "# Z score\n",
    "from scipy import stats\n",
    "import numpy as np\n",
    " \n",
    "z = np.abs(stats.zscore(df['Age']))\n",
    "print(z)"
   ]
  },
  {
   "cell_type": "code",
   "execution_count": 33,
   "id": "e19e7687",
   "metadata": {},
   "outputs": [
    {
     "name": "stdout",
     "output_type": "stream",
     "text": [
      "(array([121], dtype=int64),)\n"
     ]
    }
   ],
   "source": [
    "threshold = 3\n",
    " \n",
    "# Position of the outlier\n",
    "print(np.where(z > 3))"
   ]
  },
  {
   "cell_type": "markdown",
   "id": "cf625b60",
   "metadata": {},
   "source": [
    "## Outliers can be detected by statistical measures"
   ]
  },
  {
   "cell_type": "code",
   "execution_count": 34,
   "id": "406d5335",
   "metadata": {},
   "outputs": [],
   "source": [
    "# IQR\n",
    "Q1 = np.percentile(df['Age'], 25)\n",
    " \n",
    "Q3 = np.percentile(df['Age'], 75)\n",
    "IQR = Q3 - Q1"
   ]
  },
  {
   "cell_type": "code",
   "execution_count": 35,
   "id": "26e73304",
   "metadata": {},
   "outputs": [
    {
     "name": "stdout",
     "output_type": "stream",
     "text": [
      "20.0 21.0 1.0\n"
     ]
    }
   ],
   "source": [
    "print(Q1, Q3,IQR)"
   ]
  },
  {
   "cell_type": "code",
   "execution_count": 36,
   "id": "b8dfc07c",
   "metadata": {},
   "outputs": [
    {
     "name": "stdout",
     "output_type": "stream",
     "text": [
      "Upper bound: 0      False\n",
      "1      False\n",
      "2      False\n",
      "3      False\n",
      "4      False\n",
      "       ...  \n",
      "117    False\n",
      "118    False\n",
      "119    False\n",
      "120    False\n",
      "121     True\n",
      "Name: Age, Length: 122, dtype: bool\n",
      "(array([121], dtype=int64),)\n",
      "Lower bound: 0      False\n",
      "1      False\n",
      "2      False\n",
      "3      False\n",
      "4      False\n",
      "       ...  \n",
      "117    False\n",
      "118    False\n",
      "119    False\n",
      "120    False\n",
      "121    False\n",
      "Name: Age, Length: 122, dtype: bool\n",
      "(array([], dtype=int64),)\n"
     ]
    }
   ],
   "source": [
    "# Above Upper bound\n",
    "upper = df['Age'] >= (Q3+1.5*IQR)\n",
    " \n",
    "print(\"Upper bound:\",upper)\n",
    "print(np.where(upper))\n",
    " \n",
    "# Below Lower bound\n",
    "lower = df['Age'] <= (Q1-1.5*IQR)\n",
    "print(\"Lower bound:\", lower)\n",
    "print(np.where(lower))"
   ]
  },
  {
   "cell_type": "code",
   "execution_count": 37,
   "id": "b5277487",
   "metadata": {},
   "outputs": [
    {
     "name": "stdout",
     "output_type": "stream",
     "text": [
      "Old Shape:  (122, 17)\n",
      "New Shape:  (121, 17)\n"
     ]
    },
    {
     "name": "stderr",
     "output_type": "stream",
     "text": [
      "C:\\ProgramData\\Anaconda3\\lib\\site-packages\\pandas\\core\\frame.py:3997: SettingWithCopyWarning: \n",
      "A value is trying to be set on a copy of a slice from a DataFrame\n",
      "\n",
      "See the caveats in the documentation: https://pandas.pydata.org/pandas-docs/stable/user_guide/indexing.html#returning-a-view-versus-a-copy\n",
      "  errors=errors,\n"
     ]
    }
   ],
   "source": [
    "''' Removing the Outliers '''\n",
    "print(\"Old Shape: \", df.shape)\n",
    "upper = np.where(df['Age'] >= (Q3+1.5*IQR))\n",
    "df.drop(upper[0], inplace = True)\n",
    "\n",
    "lower = np.where(df['Age'] <= (Q1-1.5*IQR))\n",
    "df.drop(lower[0], inplace = True)\n",
    " \n",
    "print(\"New Shape: \", df.shape)"
   ]
  },
  {
   "cell_type": "code",
   "execution_count": null,
   "id": "ddeca2f7",
   "metadata": {},
   "outputs": [],
   "source": []
  },
  {
   "cell_type": "code",
   "execution_count": null,
   "id": "38216531",
   "metadata": {},
   "outputs": [],
   "source": []
  },
  {
   "cell_type": "code",
   "execution_count": null,
   "id": "349f4363",
   "metadata": {},
   "outputs": [],
   "source": []
  }
 ],
 "metadata": {
  "kernelspec": {
   "display_name": "Python 3 (ipykernel)",
   "language": "python",
   "name": "python3"
  },
  "language_info": {
   "codemirror_mode": {
    "name": "ipython",
    "version": 3
   },
   "file_extension": ".py",
   "mimetype": "text/x-python",
   "name": "python",
   "nbconvert_exporter": "python",
   "pygments_lexer": "ipython3",
   "version": "3.12.1"
  }
 },
 "nbformat": 4,
 "nbformat_minor": 5
}
